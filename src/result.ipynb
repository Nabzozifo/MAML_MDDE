{
 "cells": [
  {
   "cell_type": "code",
   "execution_count": 1,
   "metadata": {},
   "outputs": [
    {
     "ename": "TypeError",
     "evalue": "'NoneType' object cannot be interpreted as an integer",
     "output_type": "error",
     "traceback": [
      "\u001b[0;31m---------------------------------------------------------------------------\u001b[0m",
      "\u001b[0;31mTypeError\u001b[0m                                 Traceback (most recent call last)",
      "\u001b[1;32m/Users/te/Desktop/python code/epymarl/epymarl/epymarl-main 2/src/result.ipynb Cell 1\u001b[0m in \u001b[0;36m<cell line: 11>\u001b[0;34m()\u001b[0m\n\u001b[1;32m      <a href='vscode-notebook-cell:/Users/te/Desktop/python%20code/epymarl/epymarl/epymarl-main%202/src/result.ipynb#W0sZmlsZQ%3D%3D?line=8'>9</a>\u001b[0m env\u001b[39m=\u001b[39m\u001b[39m\"\u001b[39m\u001b[39mgymma_meta\u001b[39m\u001b[39m\"\u001b[39m \n\u001b[1;32m     <a href='vscode-notebook-cell:/Users/te/Desktop/python%20code/epymarl/epymarl/epymarl-main%202/src/result.ipynb#W0sZmlsZQ%3D%3D?line=9'>10</a>\u001b[0m env_args\u001b[39m=\u001b[39m{\u001b[39m'\u001b[39m\u001b[39mkey\u001b[39m\u001b[39m'\u001b[39m: \u001b[39m'\u001b[39m\u001b[39mgym_mdde:Mdde-v0\u001b[39m\u001b[39m'\u001b[39m, \u001b[39m'\u001b[39m\u001b[39mtask\u001b[39m\u001b[39m'\u001b[39m: {\u001b[39m'\u001b[39m\u001b[39mmax_episode_steps\u001b[39m\u001b[39m'\u001b[39m: \u001b[39m200\u001b[39m, \u001b[39m'\u001b[39m\u001b[39mRi\u001b[39m\u001b[39m'\u001b[39m: \u001b[39m120000\u001b[39m }, \u001b[39m'\u001b[39m\u001b[39mpretrained_wrapper\u001b[39m\u001b[39m'\u001b[39m: \u001b[39mNone\u001b[39;00m, \u001b[39m'\u001b[39m\u001b[39mstate_last_action\u001b[39m\u001b[39m'\u001b[39m: \u001b[39mFalse\u001b[39;00m, \u001b[39m'\u001b[39m\u001b[39mseed\u001b[39m\u001b[39m'\u001b[39m: \u001b[39m63081851\u001b[39m }\n\u001b[0;32m---> <a href='vscode-notebook-cell:/Users/te/Desktop/python%20code/epymarl/epymarl/epymarl-main%202/src/result.ipynb#W0sZmlsZQ%3D%3D?line=10'>11</a>\u001b[0m env \u001b[39m=\u001b[39m env_REGISTRY[env](\u001b[39m*\u001b[39;49m\u001b[39m*\u001b[39;49menv_args)\n\u001b[1;32m     <a href='vscode-notebook-cell:/Users/te/Desktop/python%20code/epymarl/epymarl/epymarl-main%202/src/result.ipynb#W0sZmlsZQ%3D%3D?line=11'>12</a>\u001b[0m env\u001b[39m.\u001b[39mreset()\n",
      "File \u001b[0;32m~/Desktop/python code/epymarl/epymarl/epymarl-main 2/src/envs/__init__.py:14\u001b[0m, in \u001b[0;36menv_fn\u001b[0;34m(env, **kwargs)\u001b[0m\n\u001b[1;32m     13\u001b[0m \u001b[39mdef\u001b[39;00m \u001b[39menv_fn\u001b[39m(env, \u001b[39m*\u001b[39m\u001b[39m*\u001b[39mkwargs) \u001b[39m-\u001b[39m\u001b[39m>\u001b[39m MultiAgentEnv:\n\u001b[0;32m---> 14\u001b[0m     \u001b[39mreturn\u001b[39;00m env(\u001b[39m*\u001b[39;49m\u001b[39m*\u001b[39;49mkwargs)\n",
      "File \u001b[0;32m~/Desktop/python code/epymarl/epymarl/epymarl-main 2/src/envs/__init__.py:231\u001b[0m, in \u001b[0;36m_GymmaWrapper_Meta.__init__\u001b[0;34m(self, key, task, pretrained_wrapper, **kwargs)\u001b[0m\n\u001b[1;32m    227\u001b[0m \u001b[39mself\u001b[39m\u001b[39m.\u001b[39mepisode_limit \u001b[39m=\u001b[39m task[\u001b[39m'\u001b[39m\u001b[39mmax_episode_steps\u001b[39m\u001b[39m'\u001b[39m]\n\u001b[1;32m    228\u001b[0m \u001b[39mself\u001b[39m\u001b[39m.\u001b[39mRi \u001b[39m=\u001b[39m task[\u001b[39m'\u001b[39m\u001b[39mRi\u001b[39m\u001b[39m'\u001b[39m]\n\u001b[1;32m    230\u001b[0m \u001b[39mself\u001b[39m\u001b[39m.\u001b[39m_env \u001b[39m=\u001b[39m TimeLimit_Meta(\n\u001b[0;32m--> 231\u001b[0m     gym\u001b[39m.\u001b[39;49mmake(\u001b[39mf\u001b[39;49m\u001b[39m\"\u001b[39;49m\u001b[39m{\u001b[39;49;00mkey\u001b[39m}\u001b[39;49;00m\u001b[39m\"\u001b[39;49m), \u001b[39mself\u001b[39m\u001b[39m.\u001b[39mtask)\n\u001b[1;32m    233\u001b[0m \u001b[39mself\u001b[39m\u001b[39m.\u001b[39m_env \u001b[39m=\u001b[39m FlattenObservation(\u001b[39mself\u001b[39m\u001b[39m.\u001b[39m_env)\n\u001b[1;32m    235\u001b[0m \u001b[39mif\u001b[39;00m pretrained_wrapper:\n",
      "File \u001b[0;32m~/Desktop/python code/epymarl/epymarl/epymarl_env/lib/python3.9/site-packages/gym/envs/registration.py:235\u001b[0m, in \u001b[0;36mmake\u001b[0;34m(id, **kwargs)\u001b[0m\n\u001b[1;32m    234\u001b[0m \u001b[39mdef\u001b[39;00m \u001b[39mmake\u001b[39m(\u001b[39mid\u001b[39m, \u001b[39m*\u001b[39m\u001b[39m*\u001b[39mkwargs):\n\u001b[0;32m--> 235\u001b[0m     \u001b[39mreturn\u001b[39;00m registry\u001b[39m.\u001b[39;49mmake(\u001b[39mid\u001b[39;49m, \u001b[39m*\u001b[39;49m\u001b[39m*\u001b[39;49mkwargs)\n",
      "File \u001b[0;32m~/Desktop/python code/epymarl/epymarl/epymarl_env/lib/python3.9/site-packages/gym/envs/registration.py:129\u001b[0m, in \u001b[0;36mEnvRegistry.make\u001b[0;34m(self, path, **kwargs)\u001b[0m\n\u001b[1;32m    127\u001b[0m     logger\u001b[39m.\u001b[39minfo(\u001b[39m\"\u001b[39m\u001b[39mMaking new env: \u001b[39m\u001b[39m%s\u001b[39;00m\u001b[39m\"\u001b[39m, path)\n\u001b[1;32m    128\u001b[0m spec \u001b[39m=\u001b[39m \u001b[39mself\u001b[39m\u001b[39m.\u001b[39mspec(path)\n\u001b[0;32m--> 129\u001b[0m env \u001b[39m=\u001b[39m spec\u001b[39m.\u001b[39;49mmake(\u001b[39m*\u001b[39;49m\u001b[39m*\u001b[39;49mkwargs)\n\u001b[1;32m    130\u001b[0m \u001b[39mreturn\u001b[39;00m env\n",
      "File \u001b[0;32m~/Desktop/python code/epymarl/epymarl/epymarl_env/lib/python3.9/site-packages/gym/envs/registration.py:90\u001b[0m, in \u001b[0;36mEnvSpec.make\u001b[0;34m(self, **kwargs)\u001b[0m\n\u001b[1;32m     88\u001b[0m \u001b[39melse\u001b[39;00m:\n\u001b[1;32m     89\u001b[0m     \u001b[39mcls\u001b[39m \u001b[39m=\u001b[39m load(\u001b[39mself\u001b[39m\u001b[39m.\u001b[39mentry_point)\n\u001b[0;32m---> 90\u001b[0m     env \u001b[39m=\u001b[39m \u001b[39mcls\u001b[39;49m(\u001b[39m*\u001b[39;49m\u001b[39m*\u001b[39;49m_kwargs)\n\u001b[1;32m     92\u001b[0m \u001b[39m# Make the environment aware of which spec it came from.\u001b[39;00m\n\u001b[1;32m     93\u001b[0m spec \u001b[39m=\u001b[39m copy\u001b[39m.\u001b[39mdeepcopy(\u001b[39mself\u001b[39m)\n",
      "File \u001b[0;32m~/Desktop/python code/epymarl/epymarl/epymarl-main 2/src/envs/MADE/gym_mdde/envs/mdde_env.py:93\u001b[0m, in \u001b[0;36mMultiAgentDrone.__init__\u001b[0;34m(self, lambda1, lambda2, lambda3, task, env_config)\u001b[0m\n\u001b[1;32m     91\u001b[0m \u001b[39mself\u001b[39m\u001b[39m.\u001b[39mnoises \u001b[39m=\u001b[39m env_config\u001b[39m.\u001b[39mget(\u001b[39m'\u001b[39m\u001b[39mnoises\u001b[39m\u001b[39m'\u001b[39m)\n\u001b[1;32m     92\u001b[0m \u001b[39m# Puissance transmit of IoTs\u001b[39;00m\n\u001b[0;32m---> 93\u001b[0m \u001b[39mself\u001b[39m\u001b[39m.\u001b[39mPIot \u001b[39m=\u001b[39m np\u001b[39m.\u001b[39;49mrandom\u001b[39m.\u001b[39;49mrand(\u001b[39mself\u001b[39;49m\u001b[39m.\u001b[39;49mI, \u001b[39mself\u001b[39;49m\u001b[39m.\u001b[39;49mn_agents, \u001b[39mself\u001b[39;49m\u001b[39m.\u001b[39;49mT)\n\u001b[1;32m     94\u001b[0m \u001b[39mself\u001b[39m\u001b[39m.\u001b[39mfadingIot \u001b[39m=\u001b[39m np\u001b[39m.\u001b[39mrandom\u001b[39m.\u001b[39mrand(\n\u001b[1;32m     95\u001b[0m     \u001b[39mself\u001b[39m\u001b[39m.\u001b[39mI, \u001b[39mself\u001b[39m\u001b[39m.\u001b[39mn_agents, \u001b[39mself\u001b[39m\u001b[39m.\u001b[39mT)  \u001b[39m# fading for IoTs devices\u001b[39;00m\n\u001b[1;32m     96\u001b[0m \u001b[39mself\u001b[39m\u001b[39m.\u001b[39mBIoT \u001b[39m=\u001b[39m np\u001b[39m.\u001b[39mrandom\u001b[39m.\u001b[39mrandint(\n\u001b[1;32m     97\u001b[0m     \u001b[39m1500\u001b[39m, \u001b[39m1700\u001b[39m, size\u001b[39m=\u001b[39m\u001b[39mself\u001b[39m\u001b[39m.\u001b[39mI)  \u001b[39m# IoTs bandwidth\u001b[39;00m\n",
      "File \u001b[0;32mmtrand.pyx:1182\u001b[0m, in \u001b[0;36mnumpy.random.mtrand.RandomState.rand\u001b[0;34m()\u001b[0m\n",
      "File \u001b[0;32mmtrand.pyx:425\u001b[0m, in \u001b[0;36mnumpy.random.mtrand.RandomState.random_sample\u001b[0;34m()\u001b[0m\n",
      "File \u001b[0;32m_common.pyx:307\u001b[0m, in \u001b[0;36mnumpy.random._common.double_fill\u001b[0;34m()\u001b[0m\n",
      "\u001b[0;31mTypeError\u001b[0m: 'NoneType' object cannot be interpreted as an integer"
     ]
    }
   ],
   "source": [
    "from envs import REGISTRY as env_REGISTRY\n",
    "from functools import partial\n",
    "from components.episode_buffer import EpisodeBatch\n",
    "import numpy as np\n",
    "from sampler import Sampler\n",
    "\n",
    "task = Sampler(1).sample_tasks()[0]\n",
    "episode_limit = task['max_episode_steps']\n",
    "env=\"gymma_meta\" \n",
    "env_args={'key': 'gym_mdde:Mdde-v0', 'task': {'max_episode_steps': 200, 'Ri': 120000 }, 'pretrained_wrapper': None, 'state_last_action': False, 'seed': 63081851 }\n",
    "env = env_REGISTRY[env](**env_args)\n",
    "env.reset()"
   ]
  },
  {
   "cell_type": "code",
   "execution_count": 2,
   "metadata": {},
   "outputs": [
    {
     "data": {
      "text/plain": [
       "{'max_episode_steps': 100, 'Ri': 75500}"
      ]
     },
     "execution_count": 2,
     "metadata": {},
     "output_type": "execute_result"
    }
   ],
   "source": [
    "task"
   ]
  },
  {
   "cell_type": "code",
   "execution_count": 2,
   "metadata": {},
   "outputs": [
    {
     "data": {
      "text/plain": [
       "{'state_shape': 8,\n",
       " 'obs_shape': 2,\n",
       " 'n_actions': 4,\n",
       " 'n_agents': 4,\n",
       " 'episode_limit': 200}"
      ]
     },
     "execution_count": 2,
     "metadata": {},
     "output_type": "execute_result"
    }
   ],
   "source": [
    "env.get_env_info()"
   ]
  },
  {
   "cell_type": "code",
   "execution_count": 3,
   "metadata": {},
   "outputs": [
    {
     "data": {
      "text/plain": [
       "{'state_shape': 6,\n",
       " 'obs_shape': 2,\n",
       " 'n_actions': 4,\n",
       " 'n_agents': 3,\n",
       " 'episode_limit': 149}"
      ]
     },
     "execution_count": 3,
     "metadata": {},
     "output_type": "execute_result"
    }
   ],
   "source": [
    "task=Sampler(1).sample_tasks()\n",
    "env.set_task(task[0])\n",
    "env.get_env_info()"
   ]
  },
  {
   "cell_type": "code",
   "execution_count": 35,
   "metadata": {},
   "outputs": [
    {
     "data": {
      "text/plain": [
       "[{'max_episode_steps': 350, 'Ri': 150000},\n",
       " {'max_episode_steps': 345, 'Ri': 148500},\n",
       " {'max_episode_steps': 340, 'Ri': 147000},\n",
       " {'max_episode_steps': 335, 'Ri': 145500},\n",
       " {'max_episode_steps': 330, 'Ri': 144000},\n",
       " {'max_episode_steps': 325, 'Ri': 142500},\n",
       " {'max_episode_steps': 320, 'Ri': 141000},\n",
       " {'max_episode_steps': 315, 'Ri': 139500},\n",
       " {'max_episode_steps': 310, 'Ri': 138000},\n",
       " {'max_episode_steps': 305, 'Ri': 136500},\n",
       " {'max_episode_steps': 300, 'Ri': 135000},\n",
       " {'max_episode_steps': 295, 'Ri': 133500},\n",
       " {'max_episode_steps': 290, 'Ri': 132000},\n",
       " {'max_episode_steps': 285, 'Ri': 130500},\n",
       " {'max_episode_steps': 280, 'Ri': 129000},\n",
       " {'max_episode_steps': 275, 'Ri': 127500},\n",
       " {'max_episode_steps': 270, 'Ri': 126000},\n",
       " {'max_episode_steps': 265, 'Ri': 124500},\n",
       " {'max_episode_steps': 260, 'Ri': 123000},\n",
       " {'max_episode_steps': 255, 'Ri': 121500},\n",
       " {'max_episode_steps': 250, 'Ri': 120000},\n",
       " {'max_episode_steps': 245, 'Ri': 118500},\n",
       " {'max_episode_steps': 240, 'Ri': 117000},\n",
       " {'max_episode_steps': 235, 'Ri': 115500},\n",
       " {'max_episode_steps': 230, 'Ri': 114000},\n",
       " {'max_episode_steps': 225, 'Ri': 112500},\n",
       " {'max_episode_steps': 220, 'Ri': 111000},\n",
       " {'max_episode_steps': 215, 'Ri': 109500},\n",
       " {'max_episode_steps': 210, 'Ri': 108000},\n",
       " {'max_episode_steps': 205, 'Ri': 106500},\n",
       " {'max_episode_steps': 200, 'Ri': 105000},\n",
       " {'max_episode_steps': 195, 'Ri': 103500},\n",
       " {'max_episode_steps': 190, 'Ri': 102000},\n",
       " {'max_episode_steps': 185, 'Ri': 100500},\n",
       " {'max_episode_steps': 180, 'Ri': 99000},\n",
       " {'max_episode_steps': 175, 'Ri': 97500},\n",
       " {'max_episode_steps': 170, 'Ri': 96000},\n",
       " {'max_episode_steps': 165, 'Ri': 94500},\n",
       " {'max_episode_steps': 160, 'Ri': 93000},\n",
       " {'max_episode_steps': 155, 'Ri': 91500},\n",
       " {'max_episode_steps': 150, 'Ri': 90000},\n",
       " {'max_episode_steps': 145, 'Ri': 88500},\n",
       " {'max_episode_steps': 140, 'Ri': 87000},\n",
       " {'max_episode_steps': 135, 'Ri': 85500},\n",
       " {'max_episode_steps': 130, 'Ri': 84000},\n",
       " {'max_episode_steps': 125, 'Ri': 82500},\n",
       " {'max_episode_steps': 120, 'Ri': 81000},\n",
       " {'max_episode_steps': 115, 'Ri': 79500},\n",
       " {'max_episode_steps': 110, 'Ri': 78000},\n",
       " {'max_episode_steps': 105, 'Ri': 76500}]"
      ]
     },
     "execution_count": 35,
     "metadata": {},
     "output_type": "execute_result"
    }
   ],
   "source": [
    "from sampler import Sampler\n",
    "Sampler(10).sample_tasks()"
   ]
  },
  {
   "cell_type": "code",
   "execution_count": 33,
   "metadata": {},
   "outputs": [
    {
     "data": {
      "text/plain": [
       "50"
      ]
     },
     "execution_count": 33,
     "metadata": {},
     "output_type": "execute_result"
    }
   ],
   "source": [
    "len([i for i in range(150000,75500,-1500)])"
   ]
  },
  {
   "cell_type": "code",
   "execution_count": 4,
   "metadata": {},
   "outputs": [
    {
     "name": "stdout",
     "output_type": "stream",
     "text": [
      "At reset : (array([20,  0]), array([18,  0]), array([19,  0]), array([49,  0]))\n",
      "[inf, -1.6, -1.6, -1.6]\n",
      "[-3.1978666666666666, -3.2, -3.2, -3.2]\n",
      "[-3.2, -3.2, -3.2, -3.2]\n",
      "[-3.2, -3.2, -3.2, -3.2]\n",
      "[inf, -3.2, -3.2, -3.2]\n",
      "[-3.1978666666666666, inf, inf, -3.2]\n",
      "[-3.2, inf, inf, -3.2]\n",
      "[-3.2, inf, inf, -3.2]\n",
      "[-3.2, nan, -3.1978666666666666, inf]\n",
      "[-3.2, inf, -3.2, -3.1978666666666666]\n",
      "[-3.2, -3.1978666666666666, -3.2, -3.2]\n",
      "[-3.2, -3.2, nan, -3.2]\n",
      "[inf, inf, nan, -3.2]\n",
      "[-3.1957333333333335, inf, inf, -3.2]\n",
      "[inf, -3.1957333333333335, -3.1978666666666666, -3.2]\n",
      "[-3.1978666666666666, inf, inf, -3.2]\n",
      "[-3.2, -3.1957333333333335, -3.1957333333333335, -3.2]\n",
      "[-3.2, inf, inf, -3.2]\n",
      "[inf, inf, -3.1957333333333335, -3.2]\n",
      "[inf, -3.1957333333333335, -3.2, -3.2]\n",
      "[inf, inf, -3.2, -3.2]\n",
      "[inf, inf, inf, -3.2]\n",
      "[inf, -3.1978666666666666, -3.1957333333333335, -3.2]\n",
      "[inf, -3.2, inf, -3.2]\n",
      "[-3.1978666666666666, inf, -3.1978666666666666, -3.2]\n",
      "[inf, -3.1978666666666666, -3.2, -3.2]\n",
      "[-3.1978666666666666, -3.2, inf, -3.2]\n",
      "[-3.2, inf, -3.1978666666666666, -3.2]\n",
      "[-3.2, -3.1978666666666666, inf, -3.2]\n",
      "[-3.2, inf, -3.1957333333333335, -3.2]\n",
      "[inf, -3.1978666666666666, inf, -3.2]\n",
      "[inf, -3.2, -3.1957333333333335, -3.2]\n",
      "[inf, nan, inf, -3.2]\n",
      "[inf, nan, -3.1957333333333335, -3.2]\n",
      "[nan, -3.2, inf, -3.2]\n",
      "[inf, -3.2, -3.1957333333333335, -3.2]\n",
      "[inf, inf, inf, -3.2]\n",
      "[inf, -3.1978666666666666, -3.1957333333333335, -3.2]\n",
      "[-3.1978666666666666, -3.2, nan, -3.2]\n",
      "[inf, inf, -3.1978666666666666, -3.2]\n",
      "[inf, inf, inf, -3.2]\n",
      "[-3.1978666666666666, -3.1978666666666666, -3.1957333333333335, inf]\n",
      "[-3.2, inf, inf, -3.1978666666666666]\n",
      "[-3.2, inf, inf, inf]\n",
      "[-3.2, -3.1978666666666666, inf, -3.1978666666666666]\n",
      "[-3.2, inf, inf, -3.2]\n",
      "[-3.2, inf, -3.1978666666666666, -3.2]\n",
      "[-3.2, inf, inf, inf]\n",
      "[inf, -3.1978666666666666, -3.1978666666666666, inf]\n",
      "[-3.1978666666666666, inf, -3.2, inf]\n",
      "[inf, inf, inf, -3.1978666666666666]\n",
      "[-3.1978666666666666, -3.1978666666666666, -3.1957333333333335, inf]\n",
      "[-3.2, inf, nan, -3.1978666666666666]\n",
      "[inf, inf, -3.1978666666666666, inf]\n",
      "[-3.1957333333333335, -3.1978666666666666, -3.2, -3.1978666666666666]\n",
      "[inf, inf, inf, -3.2]\n",
      "[-3.1978666666666666, -3.1978666666666666, -3.1978666666666666, inf]\n",
      "[-3.2, -3.2, -3.2, -3.1978666666666666]\n",
      "[-3.2, -3.2, -3.2, inf]\n",
      "[-3.2, inf, inf, inf]\n",
      "[-3.2, -3.1978666666666666, -3.1978666666666666, -3.1978666666666666]\n",
      "[-3.2, inf, inf, -3.2]\n",
      "[-3.2, -3.1978666666666666, inf, -3.2]\n",
      "[inf, inf, -3.1978666666666666, -3.2]\n",
      "[-3.1978666666666666, inf, inf, -3.2]\n",
      "[-3.2, -3.1978666666666666, inf, -3.2]\n",
      "[-3.2, inf, -3.1978666666666666, inf]\n",
      "[inf, -3.1957333333333335, -3.2, -3.1978666666666666]\n",
      "[-3.1978666666666666, inf, -3.2, -3.2]\n",
      "[-3.2, -3.1978666666666666, -3.2, -3.2]\n",
      "[inf, inf, -3.2, -3.2]\n",
      "[-3.1978666666666666, -3.1978666666666666, -3.2, -3.2]\n",
      "[-3.2, inf, inf, nan]\n",
      "[-3.2, -3.1978666666666666, -3.1957333333333335, inf]\n",
      "[inf, inf, inf, inf]\n",
      "[-3.1978666666666666, inf, -3.1957333333333335, inf]\n",
      "[-3.2, -3.1978666666666666, -3.2, -3.1978666666666666]\n",
      "[inf, inf, -3.2, -3.2]\n",
      "[inf, -3.1978666666666666, -3.2, inf]\n",
      "[-3.1978666666666666, inf, -3.2, -3.1978666666666666]\n",
      "[inf, -3.1978666666666666, inf, inf]\n",
      "[-3.1978666666666666, inf, inf, -3.1978666666666666]\n",
      "[-3.2, inf, -3.1936, inf]\n",
      "[inf, -3.1978666666666666, inf, inf]\n",
      "[-3.1957333333333335, inf, inf, -3.1957333333333335]\n",
      "[inf, -3.1978666666666666, -3.1978666666666666, -3.2]\n",
      "[-3.1957333333333335, -3.2, inf, -3.2]\n",
      "[inf, -3.2, inf, -3.2]\n",
      "[inf, -3.2, -3.1936, inf]\n",
      "[-3.1978666666666666, -3.2, -3.2, -3.1978666666666666]\n",
      "[inf, -3.2, -3.2, inf]\n",
      "[-3.1978666666666666, inf, inf, -3.1978666666666666]\n",
      "[inf, -3.1978666666666666, inf, -3.2]\n",
      "[inf, -3.2, -3.1957333333333335, inf]\n",
      "[inf, inf, inf, inf]\n",
      "[inf, -3.1978666666666666, -3.1957333333333335, -3.1978666666666666]\n",
      "[-3.1978666666666666, -3.2, inf, inf]\n",
      "[-3.2, -3.2, inf, inf]\n",
      "[inf, -3.2, inf, -3.1978666666666666]\n",
      "[inf, -3.2, inf, inf]\n",
      "[inf, -3.2, -3.1957333333333335, -3.1978666666666666]\n",
      "[inf, -3.2, inf, -3.2]\n",
      "[-3.1978666666666666, inf, -3.1957333333333335, -3.2]\n",
      "[-3.2, -3.1978666666666666, inf, -3.2]\n",
      "[-3.2, -3.2, inf, -3.2]\n",
      "[-3.2, inf, inf, -3.2]\n",
      "[-3.2, inf, -3.1978666666666666, -3.2]\n",
      "[-3.2, -3.1978666666666666, inf, -3.2]\n",
      "[-3.2, inf, -3.1978666666666666, -3.2]\n",
      "[-3.2, inf, inf, -3.2]\n",
      "[-3.2, -3.1978666666666666, inf, -3.2]\n",
      "[-3.2, -3.2, inf, -3.2]\n",
      "[-3.2, inf, inf, -3.2]\n",
      "[-3.2, -3.1978666666666666, -3.1978666666666666, -3.2]\n",
      "[-3.2, -3.2, inf, -3.2]\n",
      "[-3.2, -3.2, inf, -3.2]\n",
      "[-3.2, -3.2, inf, -3.2]\n",
      "[inf, nan, -3.1978666666666666, -3.2]\n",
      "[inf, -3.2, inf, -3.2]\n",
      "[inf, inf, inf, -3.2]\n",
      "[-3.1957333333333335, inf, -3.1978666666666666, inf]\n",
      "[inf, -3.1978666666666666, nan, -3.1978666666666666]\n",
      "[inf, inf, -3.1957333333333335, inf]\n",
      "[inf, -3.1978666666666666, inf, inf]\n",
      "[-3.1978666666666666, -3.2, -3.1978666666666666, -3.1978666666666666]\n",
      "[-3.2, -3.2, nan, -3.2]\n",
      "[-3.2, -3.2, -3.2, -3.2]\n",
      "[-3.2, inf, -3.2, inf]\n",
      "[-3.2, inf, -3.2, inf]\n",
      "[-3.2, -3.1978666666666666, -3.2, -3.1978666666666666]\n",
      "[-3.2, inf, -3.2, -3.2]\n",
      "[-3.2, -3.1978666666666666, -3.2, -3.2]\n",
      "[-3.2, inf, -3.2, inf]\n",
      "[inf, inf, -3.2, inf]\n",
      "[inf, inf, -3.2, -3.1978666666666666]\n",
      "[inf, -3.1957333333333335, -3.2, -3.2]\n",
      "[inf, inf, -3.2, inf]\n",
      "[inf, inf, -3.2, -3.1978666666666666]\n",
      "[inf, -3.1978666666666666, -3.2, -3.2]\n",
      "[inf, inf, -3.2, -3.2]\n",
      "[-3.1978666666666666, inf, inf, inf]\n",
      "[inf, inf, -3.1978666666666666, -3.1978666666666666]\n",
      "[-3.1978666666666666, -3.1978666666666666, inf, inf]\n",
      "[inf, inf, -3.1936, -3.1978666666666666]\n",
      "[-3.1978666666666666, inf, -3.2, -3.2]\n",
      "[-3.2, -3.1957333333333335, -3.2, inf]\n",
      "[-3.2, -3.2, -3.2, inf]\n",
      "[-3.2, -3.2, -3.2, inf]\n",
      "[-3.2, inf, -3.2, -3.1978666666666666]\n",
      "[inf, -3.1978666666666666, -3.2, -3.2]\n",
      "[-3.1978666666666666, inf, -3.2, -3.2]\n",
      "[inf, -3.1978666666666666, -3.2, inf]\n",
      "[-3.1978666666666666, inf, -3.2, inf]\n",
      "[-3.2, inf, -3.2, inf]\n",
      "[-3.2, inf, inf, -3.1978666666666666]\n",
      "[-3.2, inf, -3.1936, inf]\n",
      "[inf, -3.1978666666666666, -3.2, -3.1957333333333335]\n",
      "[-3.1957333333333335, -3.2, -3.2, -3.2]\n",
      "[inf, -3.2, -3.2, inf]\n",
      "[-3.1978666666666666, inf, -3.2, inf]\n",
      "[-3.2, -3.1978666666666666, inf, inf]\n",
      "[inf, inf, -3.1936, inf]\n",
      "[inf, -3.1978666666666666, inf, inf]\n",
      "[inf, -3.2, inf, inf]\n",
      "[inf, -3.2, inf, -3.1936]\n",
      "[-3.1957333333333335, inf, inf, -3.2]\n",
      "[nan, -3.1978666666666666, inf, inf]\n",
      "[-3.1978666666666666, -3.2, inf, inf]\n",
      "[inf, -3.2, inf, inf]\n",
      "[-3.1978666666666666, inf, inf, -3.1978666666666666]\n",
      "[-3.2, -3.1957333333333335, -3.1978666666666666, inf]\n",
      "[inf, inf, -3.2, inf]\n",
      "[-3.1978666666666666, -3.1957333333333335, -3.2, -3.1936]\n",
      "[-3.2, -3.2, -3.2, inf]\n",
      "[-3.2, inf, inf, -3.1978666666666666]\n",
      "[inf, nan, -3.1936, inf]\n",
      "[-3.1978666666666666, inf, -3.2, -3.1978666666666666]\n",
      "[inf, inf, inf, inf]\n",
      "[inf, inf, -3.1978666666666666, inf]\n",
      "[-3.1978666666666666, inf, inf, -3.1978666666666666]\n",
      "[-3.2, inf, -3.1978666666666666, -3.2]\n",
      "[-3.2, -3.1957333333333335, -3.2, -3.2]\n",
      "[-3.2, -3.2, inf, nan]\n",
      "[-3.2, -3.2, -3.1978666666666666, inf]\n",
      "[-3.2, -3.2, inf, -3.1978666666666666]\n",
      "[inf, -3.2, nan, -3.2]\n",
      "[-3.1978666666666666, -3.2, inf, -3.2]\n",
      "[-3.2, inf, inf, inf]\n",
      "[-3.2, inf, inf, -3.1978666666666666]\n",
      "[-3.2, inf, inf, inf]\n",
      "[-3.2, -3.1978666666666666, -3.1978666666666666, inf]\n",
      "[inf, inf, nan, inf]\n",
      "[inf, inf, inf, -3.1978666666666666]\n",
      "[-3.1978666666666666, -3.1957333333333335, inf, -3.2]\n",
      "[-3.2, inf, -3.1978666666666666, inf]\n",
      "[inf, inf, -3.2, inf]\n",
      "[inf, -3.1957333333333335, inf, inf]\n",
      "[-3.1978666666666666, -3.2, -3.1978666666666666, -3.1978666666666666]\n"
     ]
    },
    {
     "ename": "ValueError",
     "evalue": "The truth value of an array with more than one element is ambiguous. Use a.any() or a.all()",
     "output_type": "error",
     "traceback": [
      "\u001b[0;31m---------------------------------------------------------------------------\u001b[0m",
      "\u001b[0;31mValueError\u001b[0m                                Traceback (most recent call last)",
      "\u001b[1;32m/Users/te/Desktop/python code/epymarl/epymarl/src/result.ipynb Cell 6\u001b[0m in \u001b[0;36m<cell line: 5>\u001b[0;34m()\u001b[0m\n\u001b[1;32m     <a href='vscode-notebook-cell:/Users/te/Desktop/python%20code/epymarl/epymarl/src/result.ipynb#W5sZmlsZQ%3D%3D?line=9'>10</a>\u001b[0m \u001b[39mwhile\u001b[39;00m \u001b[39mnot\u001b[39;00m done:\n\u001b[1;32m     <a href='vscode-notebook-cell:/Users/te/Desktop/python%20code/epymarl/epymarl/src/result.ipynb#W5sZmlsZQ%3D%3D?line=10'>11</a>\u001b[0m   action \u001b[39m=\u001b[39m env\u001b[39m.\u001b[39maction_space\u001b[39m.\u001b[39msample()\n\u001b[0;32m---> <a href='vscode-notebook-cell:/Users/te/Desktop/python%20code/epymarl/epymarl/src/result.ipynb#W5sZmlsZQ%3D%3D?line=11'>12</a>\u001b[0m   obs, rewards, dones, infos \u001b[39m=\u001b[39m env\u001b[39m.\u001b[39;49mstep(action)\n\u001b[1;32m     <a href='vscode-notebook-cell:/Users/te/Desktop/python%20code/epymarl/epymarl/src/result.ipynb#W5sZmlsZQ%3D%3D?line=12'>13</a>\u001b[0m   \u001b[39m# print(env.a)\u001b[39;00m\n\u001b[1;32m     <a href='vscode-notebook-cell:/Users/te/Desktop/python%20code/epymarl/epymarl/src/result.ipynb#W5sZmlsZQ%3D%3D?line=13'>14</a>\u001b[0m   \u001b[39mprint\u001b[39m(rewards)\n",
      "File \u001b[0;32m~/Desktop/python code/epymarl/epymarl/epymarl_env/lib/python3.9/site-packages/gym/wrappers/order_enforcing.py:11\u001b[0m, in \u001b[0;36mOrderEnforcing.step\u001b[0;34m(self, action)\u001b[0m\n\u001b[1;32m      9\u001b[0m \u001b[39mdef\u001b[39;00m \u001b[39mstep\u001b[39m(\u001b[39mself\u001b[39m, action):\n\u001b[1;32m     10\u001b[0m     \u001b[39massert\u001b[39;00m \u001b[39mself\u001b[39m\u001b[39m.\u001b[39m_has_reset, \u001b[39m\"\u001b[39m\u001b[39mCannot call env.step() before calling reset()\u001b[39m\u001b[39m\"\u001b[39m\n\u001b[0;32m---> 11\u001b[0m     observation, reward, done, info \u001b[39m=\u001b[39m \u001b[39mself\u001b[39;49m\u001b[39m.\u001b[39;49menv\u001b[39m.\u001b[39;49mstep(action)\n\u001b[1;32m     12\u001b[0m     \u001b[39mreturn\u001b[39;00m observation, reward, done, info\n",
      "File \u001b[0;32m~/Desktop/python code/epymarl/epymarl/src/envs/MADE/gym_mdde/envs/mdde_env.py:203\u001b[0m, in \u001b[0;36mMultiAgentDrone.step\u001b[0;34m(self, action_list)\u001b[0m\n\u001b[1;32m    201\u001b[0m \u001b[39mif\u001b[39;00m agent \u001b[39m!=\u001b[39m agent1:\n\u001b[1;32m    202\u001b[0m     \u001b[39mif\u001b[39;00m \u001b[39mself\u001b[39m\u001b[39m.\u001b[39mobs[agent][\u001b[39m0\u001b[39m] \u001b[39m!=\u001b[39m \u001b[39mself\u001b[39m\u001b[39m.\u001b[39mobs[agent1][\u001b[39m0\u001b[39m] \u001b[39mor\u001b[39;00m \u001b[39mself\u001b[39m\u001b[39m.\u001b[39mobs[agent][\u001b[39m1\u001b[39m] \u001b[39m!=\u001b[39m \u001b[39mself\u001b[39m\u001b[39m.\u001b[39mobs[agent1][\u001b[39m1\u001b[39m]:\n\u001b[0;32m--> 203\u001b[0m         rewards[agent] \u001b[39m=\u001b[39m objective2cont(\n\u001b[1;32m    204\u001b[0m             \u001b[39mself\u001b[39;49m\u001b[39m.\u001b[39;49ma, agent, \u001b[39mself\u001b[39;49m\u001b[39m.\u001b[39;49mtimestep, \u001b[39mself\u001b[39;49m\u001b[39m.\u001b[39;49mobs[agent][\n\u001b[1;32m    205\u001b[0m                 \u001b[39m0\u001b[39;49m], \u001b[39mself\u001b[39;49m\u001b[39m.\u001b[39;49mobs[agent][\u001b[39m1\u001b[39;49m], \u001b[39mself\u001b[39;49m\u001b[39m.\u001b[39;49mH[agent], \u001b[39mself\u001b[39;49m\u001b[39m.\u001b[39;49mx, \u001b[39mself\u001b[39;49m\u001b[39m.\u001b[39;49my,\n\u001b[1;32m    206\u001b[0m             \u001b[39mself\u001b[39;49m\u001b[39m.\u001b[39;49mAoU, \u001b[39mself\u001b[39;49m\u001b[39m.\u001b[39;49mn_agents, \u001b[39mself\u001b[39;49m\u001b[39m.\u001b[39;49mI, \u001b[39mself\u001b[39;49m\u001b[39m.\u001b[39;49mlambda1, \u001b[39mself\u001b[39;49m\u001b[39m.\u001b[39;49mlambda2, \u001b[39mself\u001b[39;49m\u001b[39m.\u001b[39;49mlambda3, \u001b[39mself\u001b[39;49m\u001b[39m.\u001b[39;49mBIoT, \u001b[39mself\u001b[39;49m\u001b[39m.\u001b[39;49mnoises, \u001b[39mself\u001b[39;49m\u001b[39m.\u001b[39;49mbeta0, \u001b[39mself\u001b[39;49m\u001b[39m.\u001b[39;49mPIot,\n\u001b[1;32m    207\u001b[0m             \u001b[39mself\u001b[39;49m\u001b[39m.\u001b[39;49mfadingIot, \u001b[39mself\u001b[39;49m\u001b[39m.\u001b[39;49mXi, \u001b[39mself\u001b[39;49m\u001b[39m.\u001b[39;49mYi, \u001b[39mself\u001b[39;49m\u001b[39m.\u001b[39;49mH, \u001b[39mself\u001b[39;49m\u001b[39m.\u001b[39;49mmax_episode_steps)\n\u001b[1;32m    208\u001b[0m     \u001b[39melse\u001b[39;00m:\n\u001b[1;32m    209\u001b[0m         rewards[agent] \u001b[39m=\u001b[39m \u001b[39m-\u001b[39m objective2cont(\n\u001b[1;32m    210\u001b[0m             \u001b[39mself\u001b[39m\u001b[39m.\u001b[39ma, agent, \u001b[39mself\u001b[39m\u001b[39m.\u001b[39mtimestep, \u001b[39mself\u001b[39m\u001b[39m.\u001b[39mobs[agent][\n\u001b[1;32m    211\u001b[0m                 \u001b[39m0\u001b[39m], \u001b[39mself\u001b[39m\u001b[39m.\u001b[39mobs[agent][\u001b[39m1\u001b[39m], \u001b[39mself\u001b[39m\u001b[39m.\u001b[39mH[agent], \u001b[39mself\u001b[39m\u001b[39m.\u001b[39mx, \u001b[39mself\u001b[39m\u001b[39m.\u001b[39my,\n\u001b[1;32m    212\u001b[0m             \u001b[39mself\u001b[39m\u001b[39m.\u001b[39mAoU, \u001b[39mself\u001b[39m\u001b[39m.\u001b[39mn_agents, \u001b[39mself\u001b[39m\u001b[39m.\u001b[39mI, \u001b[39mself\u001b[39m\u001b[39m.\u001b[39mlambda1, \u001b[39mself\u001b[39m\u001b[39m.\u001b[39mlambda2, \u001b[39mself\u001b[39m\u001b[39m.\u001b[39mlambda3, \u001b[39mself\u001b[39m\u001b[39m.\u001b[39mBIoT, \u001b[39mself\u001b[39m\u001b[39m.\u001b[39mnoises, \u001b[39mself\u001b[39m\u001b[39m.\u001b[39mbeta0, \u001b[39mself\u001b[39m\u001b[39m.\u001b[39mPIot,\n\u001b[1;32m    213\u001b[0m             \u001b[39mself\u001b[39m\u001b[39m.\u001b[39mfadingIot, \u001b[39mself\u001b[39m\u001b[39m.\u001b[39mXi, \u001b[39mself\u001b[39m\u001b[39m.\u001b[39mYi, \u001b[39mself\u001b[39m\u001b[39m.\u001b[39mH, \u001b[39mself\u001b[39m\u001b[39m.\u001b[39mmax_episode_steps)\n",
      "File \u001b[0;32m~/Desktop/python code/epymarl/epymarl/src/envs/MADE/gym_mdde/envs/mdde_env.py:47\u001b[0m, in \u001b[0;36mobjective2cont\u001b[0;34m(a, u, t, xu, yu, zu, x, y, Tui, U, I, lambda1, lambda2, lambda3, BIoT, noise, beta0, PIot, fadingIot, Xi, Yi, H, T)\u001b[0m\n\u001b[1;32m     45\u001b[0m     obj2 \u001b[39m=\u001b[39m \u001b[39msum\u001b[39m((Tui[:, u, t\u001b[39m-\u001b[39m\u001b[39m1\u001b[39m] \u001b[39m+\u001b[39m \u001b[39m1\u001b[39m) \u001b[39m*\u001b[39m (\u001b[39m1\u001b[39m \u001b[39m-\u001b[39m a[:, u, t\u001b[39m-\u001b[39m\u001b[39m1\u001b[39m]))\n\u001b[1;32m     46\u001b[0m     \u001b[39m# (1 / np.exp(np.sqrt(computeDistance(x[u], xu, y, yu, 0, zu))))\u001b[39;00m\n\u001b[0;32m---> 47\u001b[0m     obj3 \u001b[39m=\u001b[39m finish_mission(xu, yu, x, y, t, T)\n\u001b[1;32m     48\u001b[0m \u001b[39mreturn\u001b[39;00m ((lambda1 \u001b[39m/\u001b[39m I \u001b[39m*\u001b[39m U) \u001b[39m*\u001b[39m obj1) \u001b[39m+\u001b[39m ((\u001b[39m-\u001b[39mlambda2 \u001b[39m/\u001b[39m I \u001b[39m*\u001b[39m U) \u001b[39m*\u001b[39m obj2) \u001b[39m+\u001b[39m (lambda3 \u001b[39m*\u001b[39m obj3)\n",
      "File \u001b[0;32m~/Desktop/python code/epymarl/epymarl/src/envs/MADE/gym_mdde/envs/mdde_env.py:31\u001b[0m, in \u001b[0;36mfinish_mission\u001b[0;34m(xu, yu, x, y, t, T)\u001b[0m\n\u001b[1;32m     29\u001b[0m \u001b[39mdef\u001b[39;00m \u001b[39mfinish_mission\u001b[39m(xu, yu, x, y, t, T):\n\u001b[1;32m     30\u001b[0m     \u001b[39mif\u001b[39;00m t \u001b[39m==\u001b[39m T\u001b[39m-\u001b[39m\u001b[39m1\u001b[39m:\n\u001b[0;32m---> 31\u001b[0m         \u001b[39mif\u001b[39;00m x \u001b[39m==\u001b[39m xu \u001b[39mand\u001b[39;00m y \u001b[39m==\u001b[39m yu:\n\u001b[1;32m     32\u001b[0m             \u001b[39mreturn\u001b[39;00m \u001b[39m1\u001b[39m\n\u001b[1;32m     33\u001b[0m         \u001b[39melse\u001b[39;00m:\n",
      "\u001b[0;31mValueError\u001b[0m: The truth value of an array with more than one element is ambiguous. Use a.any() or a.all()"
     ]
    }
   ],
   "source": [
    "import gym\n",
    "import gym_mdde\n",
    "env=gym.make('Mdde-v0')\n",
    "episodes = 2\n",
    "for episode in range(1, episodes+1):\n",
    "    obs = env.reset()\n",
    "    print('At reset :', obs)\n",
    "    # env.rendered()\n",
    "    done=False\n",
    "    while not done:\n",
    "      action = env.action_space.sample()\n",
    "      obs, rewards, dones, infos = env.step(action)\n",
    "      # print(env.a)\n",
    "      print(rewards)\n",
    "      # print(dones)\n",
    "      done=all(dones[agent] is True for agent in range(3))\n",
    "    # env.rendered()\n"
   ]
  },
  {
   "cell_type": "code",
   "execution_count": null,
   "metadata": {},
   "outputs": [],
   "source": [
    "env.a"
   ]
  },
  {
   "cell_type": "code",
   "execution_count": 39,
   "metadata": {},
   "outputs": [],
   "source": [
    "import matplotlib.pyplot as plt\n",
    "# Opening JSON file\n",
    "import json\n",
    "f1 = open('../results1/sacred/mappo/MDDE_Discret-v0/1/metrics.json')\n",
    "mappo_data = json.load(f1)\n",
    "\n",
    "f2 = open('../results1/sacred/maa2c/MDDE_Discret-v0/1/metrics.json')\n",
    "maa2c_data = json.load(f2)\n",
    "\n",
    "\n",
    "f3 = open('../results/sacred/mappo_meta/gym_mdde:Mdde-v0/2/metrics.json')\n",
    "meta_mappo_data = json.load(f3)\n"
   ]
  },
  {
   "cell_type": "code",
   "execution_count": 42,
   "metadata": {},
   "outputs": [
    {
     "data": {
      "text/plain": [
       "<matplotlib.legend.Legend at 0x134f2a670>"
      ]
     },
     "execution_count": 42,
     "metadata": {},
     "output_type": "execute_result"
    },
    {
     "data": {
      "image/png": "[encoded data removed]",
      "text/plain": [
       "<Figure size 500x500 with 1 Axes>"
      ]
     },
     "metadata": {},
     "output_type": "display_data"
    }
   ],
   "source": [
    "# returns JSON object as\n",
    "# a dictionary\n",
    "import numpy as np\n",
    "from cProfile import label\n",
    "import seaborn as sns\n",
    "sns.set_style(\"whitegrid\", {'axes.grid' : True,\n",
    "                            'axes.edgecolor':'black'})\n",
    "fig, ax = plt.subplots(figsize=(5, 5))\n",
    "from scipy.interpolate import make_interp_spline\n",
    "x1=np.array(mappo_data['return_mean']['steps'])\n",
    "x2=np.array(maa2c_data['return_mean']['steps'])\n",
    "x3=np.array(meta_mappo_data['return_mean']['steps'])\n",
    "\n",
    "y1=np.array(mappo_data['return_mean']['values'])\n",
    "y2=np.array(maa2c_data['return_mean']['values'])\n",
    "y3=np.array(meta_mappo_data['return_mean']['values'])\n",
    "\n",
    "# X_Y_Spline1 = make_interp_spline(x1, y1)\n",
    "# X_1 = np.linspace(x1.min(), x1.max(), 20)\n",
    "# Y_1 = X_Y_Spline1(X_1)\n",
    "\n",
    "# X_Y_Spline2 = make_interp_spline(x2, y2)\n",
    "# X_2 = np.linspace(x2.min(), x2.max(), 20)\n",
    "# Y_2 = X_Y_Spline2(X_2)\n",
    "\n",
    "X_Y_Spline3 = make_interp_spline(x3, y3)\n",
    "X_3 = np.linspace(x3.min(), x3.max(), 10)\n",
    "Y_3 = X_Y_Spline3(X_3)\n",
    "\n",
    "# ax.plot(X_1, Y_1,'-s',label='mappo')\n",
    "# ax.plot(X_2,Y_2,'-s',label='maa2c')\n",
    "ax.plot(X_3,Y_3,'-s',label='meta_mappo')\n",
    "\n",
    "# ax.plot(maddpg_data['return_mean']['steps'], maddpg_data['return_mean']['values'],label='maddpg')\n",
    "# ax.plot(mappo_data['return_mean']['steps'], mappo_data['return_mean']['values'],label='mappo')\n",
    "# ax.plot(maa2c_data['return_mean']['steps'], maa2c_data['return_mean']['values'],label='maa2c')\n",
    "# ax.fill_between(np.array(maddpg_data['return_mean']['steps']), np.array(maddpg_data['return_mean']['values']) - np.array(maddpg_data['return_std']['values']), np.array(maddpg_data['return_mean']['values']) + np.array(maddpg_data['return_std']['values']), alpha=0.2)\n",
    "# ax.fill_between(np.array(mappo_data['return_mean']['steps']), np.array(mappo_data['return_mean']['values']) - np.array(mappo_data['return_std']['values']), np.array(mappo_data['return_mean']['values']) + np.array(mappo_data['return_std']['values']), alpha=0.2,interpolate=True)\n",
    "# ax.fill_between(np.array(maa2c_data['return_mean']['steps']), np.array(maa2c_data['return_mean']['values']) - np.array(maa2c_data['return_std']['values']), np.array(maa2c_data['return_mean']['values']) + np.array(maa2c_data['return_std']['values']), alpha=0.2,interpolate=True)\n",
    "ax.fill_between(np.array(meta_mappo_data['return_mean']['steps']), np.array(meta_mappo_data['return_mean']['values']) - np.array(meta_mappo_data['return_std']['values']), np.array(meta_mappo_data['return_mean']['values']) + np.array(meta_mappo_data['return_std']['values']), alpha=0.2,interpolate=True)\n",
    "plt.legend(\n",
    "    frameon=True, fancybox=True, \\\n",
    "    prop={'weight':'bold', 'size':14}, loc=\"best\")\n",
    "# # plt_1 = plt.figure(dpi=200)\n",
    "# plt.plot(maddpg_data['return_mean']['steps'], maddpg_data['return_mean']['values'],label='maddpg')\n",
    "# plt.plot(mappo_data['return_mean']['steps'], mappo_data['return_mean']['values'],label='mappo')\n",
    "# plt.plot(maa2c_data['return_mean']['steps'], maa2c_data['return_mean']['values'],label='maa2c')\n"
   ]
  }
 ],
 "metadata": {
  "kernelspec": {
   "display_name": "Python 3.9.10 ('epymarl_env': venv)",
   "language": "python",
   "name": "python3"
  },
  "language_info": {
   "codemirror_mode": {
    "name": "ipython",
    "version": 3
   },
   "file_extension": ".py",
   "mimetype": "text/x-python",
   "name": "python",
   "nbconvert_exporter": "python",
   "pygments_lexer": "ipython3",
   "version": "3.9.10"
  },
  "orig_nbformat": 4,
  "vscode": {
   "interpreter": {
    "hash": "070075aa04aa49c6f87cebc7c5c5e9af14000e9deab7e28b5f3dff353b7d12a8"
   }
  }
 },
 "nbformat": 4,
 "nbformat_minor": 2
}
